{
 "cells": [
  {
   "cell_type": "code",
   "execution_count": 3,
   "metadata": {
    "collapsed": true
   },
   "outputs": [],
   "source": [
    "import pandas as pd\n",
    "import matplotlib.pyplot as plt\n",
    "import seaborn as sns\n",
    "import numpy as np\n",
    "import statsmodels.api as sm\n",
    "from sklearn import preprocessing\n",
    "import warnings\n",
    "from scipy import stats\n",
    "from statsmodels.sandbox.regression.predstd import wls_prediction_std\n",
    "warnings.filterwarnings('ignore')\n",
    "color = sns.color_palette()"
   ]
  },
  {
   "cell_type": "markdown",
   "metadata": {},
   "source": [
    "Read in data"
   ]
  },
  {
   "cell_type": "code",
   "execution_count": 4,
   "metadata": {
    "collapsed": false
   },
   "outputs": [],
   "source": [
    "train_score_feature = pd.read_csv('train_score_feature.csv')"
   ]
  },
  {
   "cell_type": "code",
   "execution_count": 9,
   "metadata": {
    "collapsed": false
   },
   "outputs": [],
   "source": [
    "# maybe deal with nan data"
   ]
  },
  {
   "cell_type": "code",
   "execution_count": 10,
   "metadata": {
    "collapsed": true
   },
   "outputs": [],
   "source": [
    "# maybe deal with outliers"
   ]
  },
  {
   "cell_type": "markdown",
   "metadata": {},
   "source": [
    "Build features for selected continuous features."
   ]
  },
  {
   "cell_type": "code",
   "execution_count": 107,
   "metadata": {
    "collapsed": true
   },
   "outputs": [],
   "source": [
    "continuous_variables = ['bathroomcnt', 'bedroomcnt', 'calculatedfinishedsquarefeet', 'structuretaxvaluedollarcnt', 'taxvaluedollarcnt', 'landtaxvaluedollarcnt', 'taxamount']"
   ]
  },
  {
   "cell_type": "code",
   "execution_count": 108,
   "metadata": {
    "collapsed": true
   },
   "outputs": [],
   "source": [
    "continous_feature = train_score_feature[continuous_variables]"
   ]
  },
  {
   "cell_type": "code",
   "execution_count": 152,
   "metadata": {
    "collapsed": false
   },
   "outputs": [
    {
     "data": {
      "text/plain": [
       "transactiondate    01\n",
       "dtype: object"
      ]
     },
     "execution_count": 152,
     "metadata": {},
     "output_type": "execute_result"
    }
   ],
   "source": [
    "# month feature\n"
   ]
  },
  {
   "cell_type": "code",
   "execution_count": 5,
   "metadata": {
    "collapsed": false
   },
   "outputs": [],
   "source": [
    "month_feature = pd.get_dummies(train_score_feature['transactiondate'].apply(lambda x: str(x).split('-')[1]))"
   ]
  },
  {
   "cell_type": "code",
   "execution_count": 7,
   "metadata": {
    "collapsed": false
   },
   "outputs": [
    {
     "data": {
      "text/plain": [
       "Index(['01', '02', '03', '04', '05', '06', '07', '08', '09', '10', '11', '12'], dtype='object')"
      ]
     },
     "execution_count": 7,
     "metadata": {},
     "output_type": "execute_result"
    }
   ],
   "source": [
    "month_feature.columns"
   ]
  },
  {
   "cell_type": "code",
   "execution_count": 109,
   "metadata": {
    "collapsed": false
   },
   "outputs": [
    {
     "data": {
      "text/plain": [
       "bathroomcnt                       0\n",
       "bedroomcnt                        0\n",
       "calculatedfinishedsquarefeet    661\n",
       "structuretaxvaluedollarcnt      380\n",
       "taxvaluedollarcnt                 1\n",
       "landtaxvaluedollarcnt             1\n",
       "taxamount                         6\n",
       "dtype: int64"
      ]
     },
     "execution_count": 109,
     "metadata": {},
     "output_type": "execute_result"
    }
   ],
   "source": [
    "# fill na for each variable\n",
    "continous_feature.isnull().sum()"
   ]
  },
  {
   "cell_type": "code",
   "execution_count": 110,
   "metadata": {
    "collapsed": false
   },
   "outputs": [],
   "source": [
    "# use taxvaluedollarcnt/ 73 to impute taxamount\n",
    "index = continous_feature['taxvaluedollarcnt'].notnull() & continous_feature['taxamount'].isnull()\n",
    "continous_feature.loc[index, 'taxamount'] = continous_feature[index]['taxvaluedollarcnt'] / 73"
   ]
  },
  {
   "cell_type": "code",
   "execution_count": 111,
   "metadata": {
    "collapsed": false
   },
   "outputs": [],
   "source": [
    "# use taxvaluedollarcnt - landtaxvaluedollarcnt to impute structuretaxvaluedollarcnt\n",
    "index = continous_feature['taxvaluedollarcnt'].notnull() & continous_feature['landtaxvaluedollarcnt'].notnull() \\\n",
    "& continous_feature['structuretaxvaluedollarcnt'].isnull()\n",
    "continous_feature.loc[index, 'structuretaxvaluedollarcnt'] = continous_feature[index]['taxvaluedollarcnt'] - \\\n",
    "continous_feature[index]['landtaxvaluedollarcnt']"
   ]
  },
  {
   "cell_type": "code",
   "execution_count": 121,
   "metadata": {
    "collapsed": false
   },
   "outputs": [],
   "source": [
    "# Use mean value to fill the rest\n",
    "continous_feature = continous_feature.fillna(continous_feature.mean())"
   ]
  },
  {
   "cell_type": "code",
   "execution_count": 123,
   "metadata": {
    "collapsed": false
   },
   "outputs": [],
   "source": [
    "# maybe turn lot size to categorical"
   ]
  },
  {
   "cell_type": "markdown",
   "metadata": {},
   "source": [
    "Build categorical features"
   ]
  },
  {
   "cell_type": "code",
   "execution_count": 14,
   "metadata": {
    "collapsed": true
   },
   "outputs": [],
   "source": [
    "# variables with all categories"
   ]
  },
  {
   "cell_type": "code",
   "execution_count": 65,
   "metadata": {
    "collapsed": true
   },
   "outputs": [],
   "source": [
    "full_categorical_variables = ['airconditioningtypeid', 'heatingorsystemtypeid', 'fireplacecnt', 'garagecarcnt', \n",
    "                             'propertylandusetypeid', 'regionidcounty', 'unitcnt', 'buildingqualitytypeid', 'taxdelinquencyflag']\n",
    "binary_variables = ['garagetotalsqft']"
   ]
  },
  {
   "cell_type": "code",
   "execution_count": 68,
   "metadata": {
    "collapsed": false
   },
   "outputs": [],
   "source": [
    "full_categorical_feature = train_score_feature[full_categorical_variables + binary_variables].fillna(-1).copy()"
   ]
  },
  {
   "cell_type": "code",
   "execution_count": 69,
   "metadata": {
    "collapsed": false
   },
   "outputs": [],
   "source": [
    "for feature in binary_variables:\n",
    "    full_categorical_feature[full_categorical_feature[feature] > 0][feature] = 1"
   ]
  },
  {
   "cell_type": "code",
   "execution_count": 70,
   "metadata": {
    "collapsed": false
   },
   "outputs": [
    {
     "name": "stdout",
     "output_type": "stream",
     "text": [
      "82\n"
     ]
    }
   ],
   "source": [
    "full_categorical_one_hot_feature = pd.get_dummies(full_categorical_feature, columns=full_categorical_variables)\n",
    "print(len(full_categorical_one_hot_feature.columns))"
   ]
  },
  {
   "cell_type": "code",
   "execution_count": 36,
   "metadata": {
    "collapsed": false
   },
   "outputs": [],
   "source": [
    "# Sample columne names: 'airconditioningtypeid_-1.0', 'airconditioningtypeid_1.0'"
   ]
  },
  {
   "cell_type": "code",
   "execution_count": 37,
   "metadata": {
    "collapsed": true
   },
   "outputs": [],
   "source": [
    "# variables with selected categories"
   ]
  },
  {
   "cell_type": "code",
   "execution_count": 46,
   "metadata": {
    "collapsed": true
   },
   "outputs": [],
   "source": [
    "selected_categorical_variables = ['propertyzoningdesc', 'regionidneighborhood', 'regionidzip']"
   ]
  },
  {
   "cell_type": "code",
   "execution_count": 47,
   "metadata": {
    "collapsed": true
   },
   "outputs": [],
   "source": [
    "selected_categorical_feature = train_score_feature[selected_categorical_variables].fillna(-1)"
   ]
  },
  {
   "cell_type": "code",
   "execution_count": 50,
   "metadata": {
    "collapsed": false
   },
   "outputs": [],
   "source": [
    "feature_names = ['propertyzoningdesc_CA&MUR&D*', 'propertyzoningdesc_RBR4YY', 'propertyzoningdesc_SDSF7500RP', 'propertyzoningdesc_LRR10000*', 'propertyzoningdesc_WVRPD12U-R', 'propertyzoningdesc_PDR16000*', 'propertyzoningdesc_LBCCA', 'propertyzoningdesc_SDSF7500*', 'propertyzoningdesc_LCR3800030', 'propertyzoningdesc_WHR172', 'propertyzoningdesc_SGR17500SI', 'propertyzoningdesc_WCR19450*', 'propertyzoningdesc_SLR3*', 'propertyzoningdesc_CVR1*', 'propertyzoningdesc_PDSP*', 'propertyzoningdesc_BFA1*', 'regionidneighborhood_416343.0', 'regionidneighborhood_764108.0', 'regionidneighborhood_764105.0', 'regionidneighborhood_763219.0', 'regionidneighborhood_275129.0', 'regionidneighborhood_762684.0', 'regionidneighborhood_275916.0', 'regionidneighborhood_417225.0', 'regionidneighborhood_763171.0', 'regionidneighborhood_275979.0', 'regionidneighborhood_265889.0', 'regionidneighborhood_762177.0', 'regionidneighborhood_417433.0', 'regionidneighborhood_623378.0', 'regionidneighborhood_268316.0', 'regionidneighborhood_763220.0', 'regionidneighborhood_268132.0', 'regionidneighborhood_275795.0', 'regionidneighborhood_275795.0', 'regionidzip_96943.0', 'regionidzip_96951.0', 'regionidzip_96951.0']"
   ]
  },
  {
   "cell_type": "code",
   "execution_count": 51,
   "metadata": {
    "collapsed": false
   },
   "outputs": [],
   "source": [
    "selected_categorical_one_hot_feature = pd.get_dummies(selected_categorical_feature, columns=selected_categorical_variables)[feature_names]"
   ]
  },
  {
   "cell_type": "code",
   "execution_count": null,
   "metadata": {
    "collapsed": true
   },
   "outputs": [],
   "source": []
  },
  {
   "cell_type": "code",
   "execution_count": 39,
   "metadata": {
    "collapsed": true
   },
   "outputs": [],
   "source": [
    "# two variable interactions (not added for now)"
   ]
  },
  {
   "cell_type": "markdown",
   "metadata": {},
   "source": [
    "Modeling"
   ]
  },
  {
   "cell_type": "code",
   "execution_count": 71,
   "metadata": {
    "collapsed": true
   },
   "outputs": [],
   "source": [
    "from sklearn.ensemble import RandomForestRegressor\n",
    "from sklearn import cross_validation"
   ]
  },
  {
   "cell_type": "code",
   "execution_count": 140,
   "metadata": {
    "collapsed": true
   },
   "outputs": [],
   "source": [
    "model = RandomForestRegressor(n_jobs=10, n_estimators=200, max_features='auto')"
   ]
  },
  {
   "cell_type": "code",
   "execution_count": 129,
   "metadata": {
    "collapsed": false
   },
   "outputs": [
    {
     "data": {
      "text/plain": [
       "array([-0.03731465, -0.06672267, -0.06536473, -0.05051295, -0.0628703 ])"
      ]
     },
     "execution_count": 129,
     "metadata": {},
     "output_type": "execute_result"
    }
   ],
   "source": [
    "cross_validation.cross_val_score(model, continous_feature, train_score_feature['logerror'].values, cv=5)"
   ]
  },
  {
   "cell_type": "code",
   "execution_count": 130,
   "metadata": {
    "collapsed": true
   },
   "outputs": [],
   "source": [
    "combined_feature = pd.concat([continous_feature, full_categorical_one_hot_feature, selected_categorical_one_hot_feature], axis=1)"
   ]
  },
  {
   "cell_type": "code",
   "execution_count": 163,
   "metadata": {
    "collapsed": false
   },
   "outputs": [
    {
     "data": {
      "text/plain": [
       "array([-0.08179804, -0.07744923, -0.07502386, -0.0744488 , -0.07401688])"
      ]
     },
     "execution_count": 163,
     "metadata": {},
     "output_type": "execute_result"
    }
   ],
   "source": [
    "continous_feature_shuffled = continous_feature.sample(frac=1).reset_index(drop=True)\n",
    "model = RandomForestRegressor(n_jobs=10, n_estimators=100, max_features='auto')\n",
    "cross_validation.cross_val_score(model, continous_feature_shuffled, train_score_feature['logerror'].values, cv=5, scoring='mean_absolute_error')"
   ]
  },
  {
   "cell_type": "code",
   "execution_count": 141,
   "metadata": {
    "collapsed": false
   },
   "outputs": [
    {
     "data": {
      "text/plain": [
       "array([-0.08026961, -0.07574933, -0.07338571, -0.07185328, -0.07228359])"
      ]
     },
     "execution_count": 141,
     "metadata": {},
     "output_type": "execute_result"
    }
   ],
   "source": [
    "model = RandomForestRegressor(n_jobs=10, n_estimators=200, max_features='auto')\n",
    "cross_validation.cross_val_score(model, combined_feature, train_score_feature['logerror'].values, cv=5, scoring='mean_absolute_error')"
   ]
  },
  {
   "cell_type": "code",
   "execution_count": 160,
   "metadata": {
    "collapsed": true
   },
   "outputs": [],
   "source": [
    "shuffled = month_feature.sample(frac=1).reset_index(drop=True)"
   ]
  },
  {
   "cell_type": "code",
   "execution_count": 159,
   "metadata": {
    "collapsed": false
   },
   "outputs": [
    {
     "data": {
      "text/plain": [
       "array([-0.07378388, -0.07915132, -0.06646209, -0.06892036, -0.08587292])"
      ]
     },
     "execution_count": 159,
     "metadata": {},
     "output_type": "execute_result"
    }
   ],
   "source": [
    "model = RandomForestRegressor(n_jobs=10, n_estimators=400, max_features='auto')\n",
    "cross_validation.cross_val_score(model, month_feature, train_score_feature['logerror'].values, cv=5, scoring='mean_absolute_error')"
   ]
  },
  {
   "cell_type": "code",
   "execution_count": 161,
   "metadata": {
    "collapsed": false
   },
   "outputs": [
    {
     "data": {
      "text/plain": [
       "array([-0.07395926, -0.06974778, -0.06706454, -0.06601702, -0.06595985])"
      ]
     },
     "execution_count": 161,
     "metadata": {},
     "output_type": "execute_result"
    }
   ],
   "source": [
    "model = RandomForestRegressor(n_jobs=10, n_estimators=200, max_features='auto')\n",
    "cross_validation.cross_val_score(model, shuffled, train_score_feature['logerror'].values, cv=5, scoring='mean_absolute_error')"
   ]
  },
  {
   "cell_type": "code",
   "execution_count": 1,
   "metadata": {
    "collapsed": false
   },
   "outputs": [
    {
     "ename": "NameError",
     "evalue": "name 'month_feature' is not defined",
     "output_type": "error",
     "traceback": [
      "\u001b[0;31m---------------------------------------------------------------------------\u001b[0m",
      "\u001b[0;31mNameError\u001b[0m                                 Traceback (most recent call last)",
      "\u001b[0;32m<ipython-input-1-8c7bc0969b64>\u001b[0m in \u001b[0;36m<module>\u001b[0;34m()\u001b[0m\n\u001b[0;32m----> 1\u001b[0;31m \u001b[0mmonth_feature\u001b[0m\u001b[0;34m\u001b[0m\u001b[0m\n\u001b[0m",
      "\u001b[0;31mNameError\u001b[0m: name 'month_feature' is not defined"
     ]
    }
   ],
   "source": [
    "month_feature"
   ]
  },
  {
   "cell_type": "code",
   "execution_count": null,
   "metadata": {
    "collapsed": true
   },
   "outputs": [],
   "source": []
  }
 ],
 "metadata": {
  "kernelspec": {
   "display_name": "Python 3",
   "language": "python",
   "name": "python3"
  },
  "language_info": {
   "codemirror_mode": {
    "name": "ipython",
    "version": 3
   },
   "file_extension": ".py",
   "mimetype": "text/x-python",
   "name": "python",
   "nbconvert_exporter": "python",
   "pygments_lexer": "ipython3",
   "version": "3.5.1"
  }
 },
 "nbformat": 4,
 "nbformat_minor": 0
}
